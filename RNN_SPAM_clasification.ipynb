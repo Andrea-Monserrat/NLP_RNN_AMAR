{
 "cells": [
  {
   "cell_type": "markdown",
   "id": "795fc0a7",
   "metadata": {},
   "source": [
    "## Clasificador de SPAM con RNN. ##"
   ]
  },
  {
   "cell_type": "markdown",
   "id": "cdf740af",
   "metadata": {},
   "source": [
    "Instrucciones: construir una red neuronal recurrente para clasificar los correos de Spam en la base de datos en Enron."
   ]
  },
  {
   "cell_type": "markdown",
   "id": "36d85e68",
   "metadata": {},
   "source": [
    "**Librerias:**"
   ]
  },
  {
   "cell_type": "code",
   "execution_count": null,
   "id": "d4836ba3",
   "metadata": {},
   "outputs": [],
   "source": [
    "#pip install tensorflow"
   ]
  },
  {
   "cell_type": "code",
   "execution_count": 1,
   "id": "b0c2d4c9",
   "metadata": {},
   "outputs": [],
   "source": [
    "import numpy as np\n",
    "import pandas as pd\n",
    "import matplotlib.pyplot as plt\n",
    "import re\n",
    "from nltk.corpus import stopwords\n",
    "from nltk.stem import WordNetLemmatizer\n",
    "import contractions\n",
    "from sklearn.model_selection import train_test_split\n",
    "\n",
    "#Tokenizer\n",
    "#import sentencepiece as spm\n",
    "from tensorflow.keras.preprocessing.text import Tokenizer\n",
    "from tensorflow.keras.preprocessing.sequence import pad_sequences"
   ]
  },
  {
   "cell_type": "code",
   "execution_count": 2,
   "id": "92066515",
   "metadata": {},
   "outputs": [],
   "source": [
    "from tensorflow.keras.models import Sequential\n",
    "from tensorflow.keras.layers import Embedding, SimpleRNN, Dense"
   ]
  },
  {
   "cell_type": "markdown",
   "id": "025156af",
   "metadata": {},
   "source": [
    "**Cargar datos:**"
   ]
  },
  {
   "cell_type": "code",
   "execution_count": 3,
   "id": "72e77e20",
   "metadata": {},
   "outputs": [],
   "source": [
    "data = pd.read_csv('./Data/spam_enron1.csv', low_memory=False)"
   ]
  },
  {
   "cell_type": "markdown",
   "id": "0e4f3dcb",
   "metadata": {},
   "source": [
    "**Preprocesamiento: analisis y limpieza de datos:**"
   ]
  },
  {
   "cell_type": "code",
   "execution_count": 4,
   "id": "580615c4",
   "metadata": {},
   "outputs": [
    {
     "name": "stdout",
     "output_type": "stream",
     "text": [
      "<class 'pandas.core.frame.DataFrame'>\n",
      "RangeIndex: 5171 entries, 0 to 5170\n",
      "Data columns (total 4 columns):\n",
      " #   Column      Non-Null Count  Dtype \n",
      "---  ------      --------------  ----- \n",
      " 0   Unnamed: 0  5171 non-null   int64 \n",
      " 1   label       5171 non-null   object\n",
      " 2   text        5171 non-null   object\n",
      " 3   label_num   5171 non-null   int64 \n",
      "dtypes: int64(2), object(2)\n",
      "memory usage: 161.7+ KB\n"
     ]
    }
   ],
   "source": [
    "data.info()"
   ]
  },
  {
   "cell_type": "code",
   "execution_count": 5,
   "id": "c3a0b6f6",
   "metadata": {},
   "outputs": [
    {
     "data": {
      "text/plain": [
       "Unnamed: 0    0\n",
       "label         0\n",
       "text          0\n",
       "label_num     0\n",
       "dtype: int64"
      ]
     },
     "execution_count": 5,
     "metadata": {},
     "output_type": "execute_result"
    }
   ],
   "source": [
    "data.isna().sum()"
   ]
  },
  {
   "cell_type": "code",
   "execution_count": 6,
   "id": "b94f3cbd",
   "metadata": {},
   "outputs": [],
   "source": [
    "data = data.drop(columns=['Unnamed: 0'])\n",
    "data = data.dropna()"
   ]
  },
  {
   "cell_type": "code",
   "execution_count": 7,
   "id": "4e39f0ea",
   "metadata": {},
   "outputs": [
    {
     "data": {
      "text/plain": [
       "label\n",
       "ham     3672\n",
       "spam    1499\n",
       "Name: count, dtype: int64"
      ]
     },
     "execution_count": 7,
     "metadata": {},
     "output_type": "execute_result"
    }
   ],
   "source": [
    "data['label'].value_counts()"
   ]
  },
  {
   "cell_type": "code",
   "execution_count": 8,
   "id": "98eadf76",
   "metadata": {},
   "outputs": [
    {
     "data": {
      "text/plain": [
       "label_num\n",
       "0    3672\n",
       "1    1499\n",
       "Name: count, dtype: int64"
      ]
     },
     "execution_count": 8,
     "metadata": {},
     "output_type": "execute_result"
    }
   ],
   "source": [
    "data['label_num'].value_counts()"
   ]
  },
  {
   "cell_type": "code",
   "execution_count": 9,
   "id": "7c9ff54c",
   "metadata": {},
   "outputs": [
    {
     "data": {
      "text/html": [
       "<div>\n",
       "<style scoped>\n",
       "    .dataframe tbody tr th:only-of-type {\n",
       "        vertical-align: middle;\n",
       "    }\n",
       "\n",
       "    .dataframe tbody tr th {\n",
       "        vertical-align: top;\n",
       "    }\n",
       "\n",
       "    .dataframe thead th {\n",
       "        text-align: right;\n",
       "    }\n",
       "</style>\n",
       "<table border=\"1\" class=\"dataframe\">\n",
       "  <thead>\n",
       "    <tr style=\"text-align: right;\">\n",
       "      <th></th>\n",
       "      <th>label</th>\n",
       "      <th>text</th>\n",
       "      <th>label_num</th>\n",
       "    </tr>\n",
       "  </thead>\n",
       "  <tbody>\n",
       "    <tr>\n",
       "      <th>0</th>\n",
       "      <td>ham</td>\n",
       "      <td>Subject: enron methanol ; meter # : 988291\\r\\n...</td>\n",
       "      <td>0</td>\n",
       "    </tr>\n",
       "    <tr>\n",
       "      <th>1</th>\n",
       "      <td>ham</td>\n",
       "      <td>Subject: hpl nom for january 9 , 2001\\r\\n( see...</td>\n",
       "      <td>0</td>\n",
       "    </tr>\n",
       "    <tr>\n",
       "      <th>2</th>\n",
       "      <td>ham</td>\n",
       "      <td>Subject: neon retreat\\r\\nho ho ho , we ' re ar...</td>\n",
       "      <td>0</td>\n",
       "    </tr>\n",
       "    <tr>\n",
       "      <th>3</th>\n",
       "      <td>spam</td>\n",
       "      <td>Subject: photoshop , windows , office . cheap ...</td>\n",
       "      <td>1</td>\n",
       "    </tr>\n",
       "    <tr>\n",
       "      <th>4</th>\n",
       "      <td>ham</td>\n",
       "      <td>Subject: re : indian springs\\r\\nthis deal is t...</td>\n",
       "      <td>0</td>\n",
       "    </tr>\n",
       "    <tr>\n",
       "      <th>...</th>\n",
       "      <td>...</td>\n",
       "      <td>...</td>\n",
       "      <td>...</td>\n",
       "    </tr>\n",
       "    <tr>\n",
       "      <th>5166</th>\n",
       "      <td>ham</td>\n",
       "      <td>Subject: put the 10 on the ft\\r\\nthe transport...</td>\n",
       "      <td>0</td>\n",
       "    </tr>\n",
       "    <tr>\n",
       "      <th>5167</th>\n",
       "      <td>ham</td>\n",
       "      <td>Subject: 3 / 4 / 2000 and following noms\\r\\nhp...</td>\n",
       "      <td>0</td>\n",
       "    </tr>\n",
       "    <tr>\n",
       "      <th>5168</th>\n",
       "      <td>ham</td>\n",
       "      <td>Subject: calpine daily gas nomination\\r\\n&gt;\\r\\n...</td>\n",
       "      <td>0</td>\n",
       "    </tr>\n",
       "    <tr>\n",
       "      <th>5169</th>\n",
       "      <td>ham</td>\n",
       "      <td>Subject: industrial worksheets for august 2000...</td>\n",
       "      <td>0</td>\n",
       "    </tr>\n",
       "    <tr>\n",
       "      <th>5170</th>\n",
       "      <td>spam</td>\n",
       "      <td>Subject: important online banking alert\\r\\ndea...</td>\n",
       "      <td>1</td>\n",
       "    </tr>\n",
       "  </tbody>\n",
       "</table>\n",
       "<p>5171 rows × 3 columns</p>\n",
       "</div>"
      ],
      "text/plain": [
       "     label                                               text  label_num\n",
       "0      ham  Subject: enron methanol ; meter # : 988291\\r\\n...          0\n",
       "1      ham  Subject: hpl nom for january 9 , 2001\\r\\n( see...          0\n",
       "2      ham  Subject: neon retreat\\r\\nho ho ho , we ' re ar...          0\n",
       "3     spam  Subject: photoshop , windows , office . cheap ...          1\n",
       "4      ham  Subject: re : indian springs\\r\\nthis deal is t...          0\n",
       "...    ...                                                ...        ...\n",
       "5166   ham  Subject: put the 10 on the ft\\r\\nthe transport...          0\n",
       "5167   ham  Subject: 3 / 4 / 2000 and following noms\\r\\nhp...          0\n",
       "5168   ham  Subject: calpine daily gas nomination\\r\\n>\\r\\n...          0\n",
       "5169   ham  Subject: industrial worksheets for august 2000...          0\n",
       "5170  spam  Subject: important online banking alert\\r\\ndea...          1\n",
       "\n",
       "[5171 rows x 3 columns]"
      ]
     },
     "execution_count": 9,
     "metadata": {},
     "output_type": "execute_result"
    }
   ],
   "source": [
    "data"
   ]
  },
  {
   "cell_type": "markdown",
   "id": "06c361c5",
   "metadata": {},
   "source": [
    "**Preprocesar texto:**"
   ]
  },
  {
   "cell_type": "code",
   "execution_count": 10,
   "id": "27c0f641",
   "metadata": {},
   "outputs": [],
   "source": [
    "stop_words = set(stopwords.words(\"english\"))\n",
    "html_tags_pattern = re.compile(r'<.*?>')"
   ]
  },
  {
   "cell_type": "code",
   "execution_count": 11,
   "id": "fdba0a5b",
   "metadata": {},
   "outputs": [],
   "source": [
    "def text_cleaner(text):\n",
    "    \"\"\"\n",
    "    Clean text column in the dataset.\n",
    "    \"\"\"\n",
    "    # Remove HTML tags\n",
    "    new_string =  re.sub(html_tags_pattern, '', text)\n",
    "    # Remove quotes\n",
    "    new_string = re.sub(r'\"', \"\", new_string)\n",
    "    # Expand contractions using the dictionary\n",
    "    new_string = contractions.fix(new_string)\n",
    "    # Remove possessive 's\n",
    "    new_string = re.sub(r\"'s\\b\", \"\", new_string)\n",
    "    # Lowercase words\n",
    "    new_string = new_string.lower()\n",
    "    # Remove non-alphabetic characters and short words, filter stop words\n",
    "    tokens = [\n",
    "        w\n",
    "        for w in re.findall(r\"\\b\\w+\\b\", new_string)\n",
    "        if len(w) >= 3 and w not in stop_words\n",
    "    ]\n",
    "    lemmatizer = WordNetLemmatizer()\n",
    "    tokens = [lemmatizer.lemmatize(token) for token in tokens]\n",
    "    # Join long words\n",
    "    cleaned_text = \" \".join(tokens).strip()\n",
    "    \n",
    "    return cleaned_text\n",
    "\n",
    "\n",
    "##Función creada por colegio-bourbaki.com"
   ]
  },
  {
   "cell_type": "code",
   "execution_count": 12,
   "id": "c57fd055",
   "metadata": {},
   "outputs": [],
   "source": [
    "data[\"text\"] = data[\"text\"].apply(text_cleaner)"
   ]
  },
  {
   "cell_type": "code",
   "execution_count": 13,
   "id": "a5273ddc",
   "metadata": {},
   "outputs": [
    {
     "data": {
      "text/html": [
       "<div>\n",
       "<style scoped>\n",
       "    .dataframe tbody tr th:only-of-type {\n",
       "        vertical-align: middle;\n",
       "    }\n",
       "\n",
       "    .dataframe tbody tr th {\n",
       "        vertical-align: top;\n",
       "    }\n",
       "\n",
       "    .dataframe thead th {\n",
       "        text-align: right;\n",
       "    }\n",
       "</style>\n",
       "<table border=\"1\" class=\"dataframe\">\n",
       "  <thead>\n",
       "    <tr style=\"text-align: right;\">\n",
       "      <th></th>\n",
       "      <th>label</th>\n",
       "      <th>text</th>\n",
       "      <th>label_num</th>\n",
       "    </tr>\n",
       "  </thead>\n",
       "  <tbody>\n",
       "    <tr>\n",
       "      <th>0</th>\n",
       "      <td>ham</td>\n",
       "      <td>subject enron methanol meter 988291 follow not...</td>\n",
       "      <td>0</td>\n",
       "    </tr>\n",
       "    <tr>\n",
       "      <th>1</th>\n",
       "      <td>ham</td>\n",
       "      <td>subject hpl nom january 2001 see attached file...</td>\n",
       "      <td>0</td>\n",
       "    </tr>\n",
       "    <tr>\n",
       "      <th>2</th>\n",
       "      <td>ham</td>\n",
       "      <td>subject neon retreat around wonderful time yea...</td>\n",
       "      <td>0</td>\n",
       "    </tr>\n",
       "  </tbody>\n",
       "</table>\n",
       "</div>"
      ],
      "text/plain": [
       "  label                                               text  label_num\n",
       "0   ham  subject enron methanol meter 988291 follow not...          0\n",
       "1   ham  subject hpl nom january 2001 see attached file...          0\n",
       "2   ham  subject neon retreat around wonderful time yea...          0"
      ]
     },
     "execution_count": 13,
     "metadata": {},
     "output_type": "execute_result"
    }
   ],
   "source": [
    "data.head(3)"
   ]
  },
  {
   "cell_type": "markdown",
   "id": "820fc175",
   "metadata": {},
   "source": [
    "**Distribucción de las palabras:**"
   ]
  },
  {
   "cell_type": "code",
   "execution_count": 14,
   "id": "5159feba",
   "metadata": {},
   "outputs": [],
   "source": [
    "review_words = data[\"text\"].apply(lambda x: len(str(x).split()))"
   ]
  },
  {
   "cell_type": "code",
   "execution_count": 15,
   "id": "1c7ff729",
   "metadata": {},
   "outputs": [
    {
     "data": {
      "image/png": "[encoded data removed]",
      "text/plain": [
       "<Figure size 640x480 with 1 Axes>"
      ]
     },
     "metadata": {},
     "output_type": "display_data"
    }
   ],
   "source": [
    "review_words.plot.hist(bins=100)\n",
    "plt.xlabel(\"Number of words in cleaned review\")\n",
    "plt.show()"
   ]
  },
  {
   "cell_type": "code",
   "execution_count": 16,
   "id": "82ae4788",
   "metadata": {},
   "outputs": [
    {
     "data": {
      "text/plain": [
       "count    5171.000000\n",
       "mean       97.489847\n",
       "std       146.510418\n",
       "min         1.000000\n",
       "25%        23.000000\n",
       "50%        49.000000\n",
       "75%       111.000000\n",
       "max      3244.000000\n",
       "Name: text, dtype: float64"
      ]
     },
     "execution_count": 16,
     "metadata": {},
     "output_type": "execute_result"
    }
   ],
   "source": [
    "review_words.describe()"
   ]
  },
  {
   "cell_type": "code",
   "execution_count": 17,
   "id": "c1563c49",
   "metadata": {},
   "outputs": [
    {
     "name": "stdout",
     "output_type": "stream",
     "text": [
      "Total de palabras únicas: 47263\n"
     ]
    }
   ],
   "source": [
    "all_text = ' '.join(data['text'])\n",
    "rev_unique_words = set(all_text.split())\n",
    "rev_unique_words = len(rev_unique_words)\n",
    "print(f\"Total de palabras únicas: {rev_unique_words}\")"
   ]
  },
  {
   "cell_type": "code",
   "execution_count": 62,
   "id": "08ecf1f9",
   "metadata": {},
   "outputs": [
    {
     "name": "stdout",
     "output_type": "stream",
     "text": [
      "El 90% de los textos tiene 227 palabras\n"
     ]
    }
   ],
   "source": [
    "p=0.9\n",
    "print(f\"El {100*p:.0f}% de los textos tiene {review_words.quantile(p):.0f} palabras\")"
   ]
  },
  {
   "cell_type": "markdown",
   "id": "eae7b302",
   "metadata": {},
   "source": [
    "**Tokenización:**"
   ]
  },
  {
   "cell_type": "code",
   "execution_count": 19,
   "id": "6c175c43",
   "metadata": {},
   "outputs": [],
   "source": [
    "tokenizer = Tokenizer(num_words=25000)\n",
    "tokenizer.fit_on_texts(data['text'])\n",
    "sequences = tokenizer.texts_to_sequences(data['text'])"
   ]
  },
  {
   "cell_type": "markdown",
   "id": "e4adecf1",
   "metadata": {},
   "source": [
    "**Padding:**"
   ]
  },
  {
   "cell_type": "code",
   "execution_count": 20,
   "id": "831da8fc",
   "metadata": {},
   "outputs": [],
   "source": [
    "padded_sequences = pad_sequences(sequences, maxlen=10, padding='post')"
   ]
  },
  {
   "cell_type": "markdown",
   "id": "752f7aa3",
   "metadata": {},
   "source": [
    "**División de conjunto de entrenamiento y de validación:**"
   ]
  },
  {
   "cell_type": "markdown",
   "id": "c90e5dde",
   "metadata": {},
   "source": [
    "80%  - 20%"
   ]
  },
  {
   "cell_type": "code",
   "execution_count": 23,
   "id": "ca3744ad",
   "metadata": {},
   "outputs": [],
   "source": [
    "split = int(len(padded_sequences) * 0.8)\n",
    "x_train, x_test = padded_sequences[:split], padded_sequences[split:]\n",
    "y_train, y_test = data['label_num'][:split], data['label_num'][split:] #4136"
   ]
  },
  {
   "cell_type": "code",
   "execution_count": 24,
   "id": "7fe6a48a",
   "metadata": {},
   "outputs": [
    {
     "name": "stdout",
     "output_type": "stream",
     "text": [
      "Hay 4136 textos en el conjunto de entrenamiento y 1035 textos en el conjunto de prueba\n"
     ]
    }
   ],
   "source": [
    "print(\n",
    "    f\"Hay {len(x_train)} textos en el conjunto de entrenamiento y {len(x_test)} textos en el conjunto de prueba\"\n",
    ")"
   ]
  },
  {
   "cell_type": "code",
   "execution_count": 95,
   "id": "9b75993f",
   "metadata": {},
   "outputs": [],
   "source": [
    "x_train_pd = pd.DataFrame(x_train)\n",
    "x_test_pd = pd.DataFrame(x_test)"
   ]
  },
  {
   "cell_type": "code",
   "execution_count": 96,
   "id": "ea2e76a1",
   "metadata": {},
   "outputs": [],
   "source": [
    "x_train_pd.to_csv('./Data/x_train.csv', index=False, header=False)\n",
    "x_test_pd.to_csv('./Data/x_test.csv', index=False, header=False)"
   ]
  },
  {
   "cell_type": "code",
   "execution_count": 97,
   "id": "0a89c8d5",
   "metadata": {},
   "outputs": [],
   "source": [
    "y_train_pd = pd.DataFrame(y_train)\n",
    "y_test_pd = pd.DataFrame(y_test)"
   ]
  },
  {
   "cell_type": "code",
   "execution_count": 98,
   "id": "bae327cc",
   "metadata": {},
   "outputs": [],
   "source": [
    "y_train_pd.to_csv('./Data/y_train.csv', index=False, header=False)\n",
    "y_test_pd.to_csv('./Data/y_test.csv', index=False, header=False)"
   ]
  },
  {
   "cell_type": "markdown",
   "id": "539fe0e4",
   "metadata": {},
   "source": [
    "**Creación de modelo:**"
   ]
  },
  {
   "cell_type": "markdown",
   "id": "eee6aff1",
   "metadata": {},
   "source": [
    "Notas:\n",
    "* Número de palabras en el vocabulario, vectores de 16 dimensiones\n",
    "* # 32 unidades en la capa RNN\n",
    "* Capa de salida para clasificación binaria dado que solo hay dos clasificaciones posibles."
   ]
  },
  {
   "cell_type": "code",
   "execution_count": 86,
   "id": "9c1559a2",
   "metadata": {},
   "outputs": [
    {
     "name": "stdout",
     "output_type": "stream",
     "text": [
      "Model: \"sequential_11\"\n",
      "_________________________________________________________________\n",
      " Layer (type)                Output Shape              Param #   \n",
      "=================================================================\n",
      " embedding_11 (Embedding)    (None, 10, 2)             50000     \n",
      "                                                                 \n",
      " simple_rnn_11 (SimpleRNN)   (None, 16)                304       \n",
      "                                                                 \n",
      " dense_11 (Dense)            (None, 1)                 17        \n",
      "                                                                 \n",
      "=================================================================\n",
      "Total params: 50321 (196.57 KB)\n",
      "Trainable params: 50321 (196.57 KB)\n",
      "Non-trainable params: 0 (0.00 Byte)\n",
      "_________________________________________________________________\n"
     ]
    }
   ],
   "source": [
    "model = Sequential([\n",
    "    Embedding(input_dim=25000, output_dim=2, input_length=10),\n",
    "    SimpleRNN(16), \n",
    "    Dense(1, activation='sigmoid')  \n",
    "])\n",
    "\n",
    "model.compile(loss='binary_crossentropy', optimizer='adam', metrics=['accuracy'])\n",
    "model.summary()"
   ]
  },
  {
   "cell_type": "code",
   "execution_count": 87,
   "id": "dca08b53",
   "metadata": {},
   "outputs": [
    {
     "name": "stdout",
     "output_type": "stream",
     "text": [
      "Epoch 1/8\n",
      "130/130 [==============================] - 1s 2ms/step - loss: 0.5576 - accuracy: 0.7251 - val_loss: 0.4095 - val_accuracy: 0.7865\n",
      "Epoch 2/8\n",
      "130/130 [==============================] - 0s 1ms/step - loss: 0.2199 - accuracy: 0.9144 - val_loss: 0.2118 - val_accuracy: 0.9082\n",
      "Epoch 3/8\n",
      "130/130 [==============================] - 0s 1ms/step - loss: 0.0819 - accuracy: 0.9746 - val_loss: 0.1982 - val_accuracy: 0.9140\n",
      "Epoch 4/8\n",
      "130/130 [==============================] - 0s 1ms/step - loss: 0.0379 - accuracy: 0.9906 - val_loss: 0.1838 - val_accuracy: 0.9314\n",
      "Epoch 5/8\n",
      "130/130 [==============================] - 0s 1ms/step - loss: 0.0187 - accuracy: 0.9964 - val_loss: 0.2107 - val_accuracy: 0.9179\n",
      "Epoch 6/8\n",
      "130/130 [==============================] - 0s 1ms/step - loss: 0.0110 - accuracy: 0.9983 - val_loss: 0.2230 - val_accuracy: 0.9285\n",
      "Epoch 7/8\n",
      "130/130 [==============================] - 0s 1ms/step - loss: 0.0073 - accuracy: 0.9993 - val_loss: 0.2727 - val_accuracy: 0.9188\n",
      "Epoch 8/8\n",
      "130/130 [==============================] - 0s 1ms/step - loss: 0.0035 - accuracy: 0.9993 - val_loss: 0.2241 - val_accuracy: 0.9227\n"
     ]
    }
   ],
   "source": [
    "history = model.fit(x_train, y_train, epochs=8, validation_data=(x_test, y_test))"
   ]
  },
  {
   "cell_type": "markdown",
   "id": "cdd78130",
   "metadata": {},
   "source": [
    "**Evaluación:**"
   ]
  },
  {
   "cell_type": "code",
   "execution_count": 88,
   "id": "cc4ba2e6",
   "metadata": {},
   "outputs": [
    {
     "name": "stdout",
     "output_type": "stream",
     "text": [
      "33/33 [==============================] - 0s 656us/step - loss: 0.2241 - accuracy: 0.9227\n",
      "Test Loss: 0.22412675619125366\n",
      "Test Accuracy: 0.9227052927017212\n"
     ]
    }
   ],
   "source": [
    "test_loss, test_acc = model.evaluate(x_test, y_test)\n",
    "print('Test Loss:', test_loss)\n",
    "print('Test Accuracy:', test_acc)"
   ]
  },
  {
   "cell_type": "markdown",
   "id": "849f3533",
   "metadata": {},
   "source": [
    "**Predicción:**"
   ]
  },
  {
   "cell_type": "code",
   "execution_count": 89,
   "id": "9097e66e",
   "metadata": {},
   "outputs": [
    {
     "name": "stdout",
     "output_type": "stream",
     "text": [
      "33/33 [==============================] - 0s 628us/step\n",
      "Predictions: [[0.00220071]\n",
      " [0.00200189]\n",
      " [0.7488756 ]\n",
      " ...\n",
      " [0.00097575]\n",
      " [0.00159991]\n",
      " [0.78430045]]\n"
     ]
    }
   ],
   "source": [
    "predictions = model.predict(x_test)\n",
    "print('Predictions:', predictions)\n"
   ]
  },
  {
   "cell_type": "code",
   "execution_count": 90,
   "id": "5d8cfbb6",
   "metadata": {},
   "outputs": [
    {
     "data": {
      "image/png": "[encoded data removed]",
      "text/plain": [
       "<Figure size 640x480 with 1 Axes>"
      ]
     },
     "metadata": {},
     "output_type": "display_data"
    }
   ],
   "source": [
    "# Precisión (Accuracy)\n",
    "plt.plot(history.history['accuracy'], label='accuracy')\n",
    "plt.plot(history.history['val_accuracy'], label='val_accuracy')\n",
    "plt.title('Precisión del Modelo')\n",
    "plt.xlabel('Épocas')\n",
    "plt.ylabel('Precisión')\n",
    "plt.legend(loc='lower right')\n",
    "plt.show()\n"
   ]
  },
  {
   "cell_type": "code",
   "execution_count": 91,
   "id": "48008b47",
   "metadata": {},
   "outputs": [
    {
     "data": {
      "image/png": "[encoded data removed]",
      "text/plain": [
       "<Figure size 640x480 with 1 Axes>"
      ]
     },
     "metadata": {},
     "output_type": "display_data"
    }
   ],
   "source": [
    "# Pérdida (Loss)\n",
    "plt.plot(history.history['loss'], label='training loss')\n",
    "plt.plot(history.history['val_loss'], label='validation loss')\n",
    "plt.title('Pérdida del Modelo')\n",
    "plt.xlabel('Épocas')\n",
    "plt.ylabel('Pérdida')\n",
    "plt.legend(loc='upper right')\n",
    "plt.show()"
   ]
  }
 ],
 "metadata": {
  "kernelspec": {
   "display_name": "Python 3 (ipykernel)",
   "language": "python",
   "name": "python3"
  },
  "language_info": {
   "codemirror_mode": {
    "name": "ipython",
    "version": 3
   },
   "file_extension": ".py",
   "mimetype": "text/x-python",
   "name": "python",
   "nbconvert_exporter": "python",
   "pygments_lexer": "ipython3",
   "version": "3.10.9"
  }
 },
 "nbformat": 4,
 "nbformat_minor": 5
}
